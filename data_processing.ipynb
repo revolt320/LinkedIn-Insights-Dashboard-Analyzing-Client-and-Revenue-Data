{
 "cells": [
  {
   "cell_type": "markdown",
   "id": "ac6dc57e-8a11-434c-8809-41b4fc46b28d",
   "metadata": {},
   "source": [
    "# Data Processing\n",
    "This project features a dashboard that analyzes client details extracted from LinkedIn profiles and combines them with company revenue data to provide insights into client demographics and financial performance. The data processing uses real data from LinkedIn to extract required information for analysis. Since LinkedIn only provides street addresses, the OpenCage API is utilized to obtain corresponding country information. Note that the dashboard is demonstrated using a random dataset to ensure privacy and compliance."
   ]
  },
  {
   "cell_type": "code",
   "execution_count": null,
   "id": "e2c532f1-a853-4b87-aa10-d64441f9f8f4",
   "metadata": {},
   "outputs": [],
   "source": []
  },
  {
   "cell_type": "code",
   "execution_count": null,
   "id": "2d1e7d99-9a69-4e97-bcb5-d10f068f8af9",
   "metadata": {},
   "outputs": [],
   "source": []
  },
  {
   "cell_type": "code",
   "execution_count": 2,
   "id": "a8f1c46e-5a24-4c1b-9dae-be613e5be5f6",
   "metadata": {},
   "outputs": [],
   "source": [
    "import pandas as pd"
   ]
  },
  {
   "cell_type": "code",
   "execution_count": 3,
   "id": "982f45af-2def-4b2b-89eb-a97670c7b173",
   "metadata": {},
   "outputs": [],
   "source": [
    "df = pd.read_csv('Company_data.csv')"
   ]
  },
  {
   "cell_type": "code",
   "execution_count": 5,
   "id": "fd7fc4f0-76aa-4151-a23a-4bc19af30999",
   "metadata": {},
   "outputs": [
    {
     "name": "stdout",
     "output_type": "stream",
     "text": [
      "<class 'pandas.core.frame.DataFrame'>\n",
      "RangeIndex: 119 entries, 0 to 118\n",
      "Data columns (total 8 columns):\n",
      " #   Column               Non-Null Count  Dtype  \n",
      "---  ------               --------------  -----  \n",
      " 0   Company              119 non-null    object \n",
      " 1   Revenue              119 non-null    float64\n",
      " 2   Name                 95 non-null     object \n",
      " 3   Company Location     87 non-null     object \n",
      " 4   Industry             95 non-null     object \n",
      " 5   Number Of Employees  95 non-null     object \n",
      " 6   Followers            95 non-null     object \n",
      " 7   URL                  95 non-null     object \n",
      "dtypes: float64(1), object(7)\n",
      "memory usage: 7.6+ KB\n"
     ]
    }
   ],
   "source": [
    "df.info()"
   ]
  },
  {
   "cell_type": "code",
   "execution_count": 17,
   "id": "f534901e-152e-40cb-b35d-2bb016fa30e1",
   "metadata": {},
   "outputs": [],
   "source": [
    "#pip install geopy\n"
   ]
  },
  {
   "cell_type": "code",
   "execution_count": 14,
   "id": "7610c739-5491-4cd4-b939-19adcdff63b0",
   "metadata": {},
   "outputs": [
    {
     "name": "stdout",
     "output_type": "stream",
     "text": [
      "Defaulting to user installation because normal site-packages is not writeable\n",
      "Collecting opencage\n",
      "  Downloading opencage-2.4.0-py3-none-any.whl (16 kB)\n",
      "Requirement already satisfied: Requests>=2.31.0 in /home/rohithrajeev/.local/lib/python3.10/site-packages (from opencage) (2.31.0)\n",
      "Collecting backoff>=2.2.1\n",
      "  Downloading backoff-2.2.1-py3-none-any.whl (15 kB)\n",
      "Requirement already satisfied: charset-normalizer<4,>=2 in /home/rohithrajeev/.local/lib/python3.10/site-packages (from Requests>=2.31.0->opencage) (3.3.2)\n",
      "Requirement already satisfied: idna<4,>=2.5 in /usr/lib/python3/dist-packages (from Requests>=2.31.0->opencage) (3.3)\n",
      "Requirement already satisfied: urllib3<3,>=1.21.1 in /usr/lib/python3/dist-packages (from Requests>=2.31.0->opencage) (1.26.5)\n",
      "Requirement already satisfied: certifi>=2017.4.17 in /home/rohithrajeev/.local/lib/python3.10/site-packages (from Requests>=2.31.0->opencage) (2024.7.4)\n",
      "Installing collected packages: backoff, opencage\n",
      "Successfully installed backoff-2.2.1 opencage-2.4.0\n",
      "Note: you may need to restart the kernel to use updated packages.\n"
     ]
    }
   ],
   "source": [
    "pip install opencage\n"
   ]
  },
  {
   "cell_type": "code",
   "execution_count": 19,
   "id": "099fed47-9def-4c41-b6d6-60da0d542952",
   "metadata": {},
   "outputs": [
    {
     "name": "stdout",
     "output_type": "stream",
     "text": [
      "<class 'pandas.core.frame.DataFrame'>\n",
      "RangeIndex: 119 entries, 0 to 118\n",
      "Data columns (total 9 columns):\n",
      " #   Column               Non-Null Count  Dtype  \n",
      "---  ------               --------------  -----  \n",
      " 0   Company              119 non-null    object \n",
      " 1   Revenue              119 non-null    float64\n",
      " 2   Name                 95 non-null     object \n",
      " 3   Company Location     87 non-null     object \n",
      " 4   Industry             95 non-null     object \n",
      " 5   Number Of Employees  95 non-null     object \n",
      " 6   Followers            95 non-null     object \n",
      " 7   URL                  95 non-null     object \n",
      " 8   country              87 non-null     object \n",
      "dtypes: float64(1), object(8)\n",
      "memory usage: 8.5+ KB\n"
     ]
    }
   ],
   "source": [
    "df.info()"
   ]
  },
  {
   "cell_type": "code",
   "execution_count": 4,
   "id": "1391db9d-44e7-40e7-9639-3c973fc43dd2",
   "metadata": {},
   "outputs": [],
   "source": [
    "import re\n",
    "# Function to parse the employee range and return an approximate number\n",
    "def parse_employees(value):\n",
    "    if pd.isna(value):  # Check for None or NaN\n",
    "        return None\n",
    "\n",
    "    # Match patterns like '1K-5K', '501-1K', '10K+', '51-200'\n",
    "    match = re.match(r'(\\d+)(K?)\\s*-\\s*(\\d+)?(K?)|(\\d+)(K?)\\+', value)\n",
    "\n",
    "    if match:\n",
    "        low, low_k, high, high_k, single, single_k = match.groups()\n",
    "\n",
    "        if single:  # Handle '10K+' case\n",
    "            return int(single) * (1000 if single_k else 1)\n",
    "\n",
    "        low_value = int(low) * (1000 if low_k else 1)\n",
    "        high_value = int(high or 0) * (1000 if high_k else 1)\n",
    "\n",
    "        # Return the higher end of the range as an estimate\n",
    "        return max(low_value, high_value)\n",
    "\n",
    "    # If no pattern matched, return None\n",
    "    return None\n",
    "\n",
    "# Apply the parsing function\n",
    "df['mapped_employees'] = df['Number Of Employees'].apply(parse_employees)\n",
    "\n"
   ]
  },
  {
   "cell_type": "code",
   "execution_count": 5,
   "id": "c1a502bc-cd31-4564-9031-96464732d79e",
   "metadata": {},
   "outputs": [],
   "source": [
    "\n",
    "# Function to parse the follower count\n",
    "def parse_followers(value):\n",
    "    if pd.isna(value):  # Check for None or NaN\n",
    "        return None\n",
    "\n",
    "    # Match patterns like '3K followers', '384 followers', '10K followers'\n",
    "    match = re.match(r'(\\d+(\\.\\d+)?)\\s*(K|M)?\\s*followers', value)\n",
    "\n",
    "    if match:\n",
    "        number, _, scale = match.groups()\n",
    "\n",
    "        number = float(number)  # Convert number to float for cases like '1.5K'\n",
    "        \n",
    "        if scale == 'K':\n",
    "            return int(number * 1000)\n",
    "        elif scale == 'M':\n",
    "            return int(number * 1000000)\n",
    "        else:\n",
    "            return int(number)\n",
    "\n",
    "    # If no pattern matched, return None\n",
    "    return None\n",
    "\n",
    "# Apply the parsing function\n",
    "df['mapped_followers'] = df['Followers'].apply(parse_followers)"
   ]
  },
  {
   "cell_type": "code",
   "execution_count": 6,
   "id": "338fbe21-c101-4a86-b913-48fadbbd2702",
   "metadata": {},
   "outputs": [],
   "source": [
    "# Mapping dictionary\n",
    "industry_mapping = {\n",
    "    'Advertising Services': 'Advertising and Marketing',\n",
    "    'Business Content': 'Advertising and Marketing',\n",
    "    \n",
    "    'Airlines and Aviation': 'Aviation and Transportation',\n",
    "    'Maritime': 'Aviation and Transportation',\n",
    "    'Transportation, Logistics, Supply Chain and Storage': 'Aviation and Transportation',\n",
    "    'Truck Transportation': 'Aviation and Transportation',\n",
    "    \n",
    "    'Appliances, Electrical, and Electronics Manufacturing': 'Consumer Goods and Retail',\n",
    "    'Automotive': 'Consumer Goods and Retail',\n",
    "    'Consumer Goods': 'Consumer Goods and Retail',\n",
    "    'Retail': 'Consumer Goods and Retail',\n",
    "    'Retail Apparel and Fashion': 'Consumer Goods and Retail',\n",
    "    'Wholesale': 'Consumer Goods and Retail',\n",
    "    'Wholesale Building Materials': 'Consumer Goods and Retail',\n",
    "    \n",
    "    'Education': 'Education and Training',\n",
    "    'Wellness and Fitness Services': 'Education and Training',\n",
    "    \n",
    "    'Health, Wellness & Fitness': 'Healthcare and Medical',\n",
    "    'Hospitals and Health Care': 'Healthcare and Medical',\n",
    "    'Medical Equipment Manufacturing': 'Healthcare and Medical',\n",
    "    'Medical Practices': 'Healthcare and Medical',\n",
    "    \n",
    "    'Food and Beverage Services': 'Hospitality and Travel',\n",
    "    'Hospitality': 'Hospitality and Travel',\n",
    "    'Travel Arrangements': 'Hospitality and Travel',\n",
    "    \n",
    "    'Computer Hardware Manufacturing': 'IT and Technology',\n",
    "    'IT Services and IT Consulting': 'IT and Technology',\n",
    "    'Software Development': 'IT and Technology',\n",
    "    'Technology, Information and Internet': 'IT and Technology',\n",
    "    \n",
    "    'Engines and Power Transmission Equipment Manufacturing': 'Manufacturing',\n",
    "    'Industrial Machinery Manufacturing': 'Manufacturing',\n",
    "    'Machinery Manufacturing': 'Manufacturing',\n",
    "    'Manufacturing': 'Manufacturing',\n",
    "    'Textile Manufacturing': 'Manufacturing',\n",
    "    \n",
    "    'Book and Periodical Publishing': 'Media and Publishing',\n",
    "    'Newspaper Publishing': 'Media and Publishing',\n",
    "    'Performing Arts': 'Media and Publishing',\n",
    "    \n",
    "    'Business Consulting and Services': 'Professional Services',\n",
    "    'Law Practice': 'Professional Services',\n",
    "    'Legal Services': 'Professional Services',\n",
    "    'Staffing and Recruiting': 'Professional Services',\n",
    "    \n",
    "    'Real Estate': 'Real Estate',\n",
    "    'Real Estate Agents and Brokers': 'Real Estate',\n",
    "    \n",
    "    'Government Administration': 'Non-Profit and Government',\n",
    "    'Non-profit Organizations': 'Non-Profit and Government',\n",
    "    \n",
    "    'Entertainment Providers': 'Entertainment'\n",
    "}\n",
    "\n",
    "# Map the values\n",
    "df['Category'] = df['Industry'].map(industry_mapping)"
   ]
  },
  {
   "cell_type": "code",
   "execution_count": 33,
   "id": "acd8ce85-4cc9-4159-9cb8-702318b63e65",
   "metadata": {},
   "outputs": [],
   "source": [
    "df.to_csv('updated_dataset_with_countries.csv', index=False)"
   ]
  },
  {
   "cell_type": "code",
   "execution_count": null,
   "id": "2d46598d-bb78-4eeb-a29e-91f8169fc286",
   "metadata": {},
   "outputs": [],
   "source": []
  }
 ],
 "metadata": {
  "kernelspec": {
   "display_name": "Python 3 (ipykernel)",
   "language": "python",
   "name": "python3"
  },
  "language_info": {
   "codemirror_mode": {
    "name": "ipython",
    "version": 3
   },
   "file_extension": ".py",
   "mimetype": "text/x-python",
   "name": "python",
   "nbconvert_exporter": "python",
   "pygments_lexer": "ipython3",
   "version": "3.10.12"
  }
 },
 "nbformat": 4,
 "nbformat_minor": 5
}
